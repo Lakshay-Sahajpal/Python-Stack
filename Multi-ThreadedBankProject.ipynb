{
 "cells": [
  {
   "cell_type": "markdown",
   "id": "df33b45f-3af9-4471-8cb1-e38fb9fdaa42",
   "metadata": {},
   "source": [
    "Multi-Threaded Bank Project"
   ]
  },
  {
   "cell_type": "code",
   "execution_count": 74,
   "id": "8094868a-f9f1-48e3-bbe4-982b77115a16",
   "metadata": {},
   "outputs": [
    {
     "name": "stdout",
     "output_type": "stream",
     "text": [
      "Punjab National Bank\n",
      "Account No.: 1429 Current Balance: 1000000\n",
      "Account No.: 1430 Current Balance: 550000\n",
      "--------------\n",
      "Ammount successfully credited to your account\n",
      "Account No.: 1429 Current Balance: 1050000\n",
      "Account No.: 1430 Current Balance: 600000\n",
      "--------------\n",
      "Ammount successfully debited from your account\n",
      "Account No.: 1429 Current Balance: 950000\n",
      "Account No.: 1430 Current Balance: 597500\n"
     ]
    }
   ],
   "source": [
    "from threading import *\n",
    "from time import sleep\n",
    "\n",
    "Bank = \"Punjab National Bank\"\n",
    "\n",
    "class BankAccount(Thread):\n",
    "    \n",
    "    def __init__(self, bid, bal):\n",
    "        super().__init__()\n",
    "        self.__bid=bid\n",
    "        self.__bal=bal\n",
    "             \n",
    "    def run(self):\n",
    "        print(f\"Account No.: {self.__bid} Current Balance: {self.__bal}\")\n",
    "        #sleep(.5)\n",
    "\n",
    "class Deposit(Thread):\n",
    "    '''This is class is for Deposition and initialised account object'''\n",
    "    def __init__(self, account, add_amount):\n",
    "        super().__init__()\n",
    "        self.add_amount=add_amount\n",
    "        self.account=account\n",
    "  \n",
    "    def run(self):\n",
    "        '''checking the deposition amount grater than present balance and adding'''\n",
    "        if self.add_amount > 0:\n",
    "            self.account._BankAccount__bal += self.add_amount\n",
    "            self.account.run() #calling the BankAccount.run() with the account name which is mentiond in the object of BankAccount\n",
    "        else:\n",
    "            self.account.run()\n",
    "\n",
    "\n",
    "class Withdrawl (Thread):\n",
    "    def __init__(self, debit, debit_amount):\n",
    "        super().__init__()\n",
    "        self.debit_amount=debit_amount\n",
    "        self.debit=debit\n",
    "  \n",
    "    def run(self):\n",
    "        if self.debit_amount <= self.debit._BankAccount__bal or self.debit_amount == self.debit._BankAccount__bal:\n",
    "            self.debit._BankAccount__bal -= self.debit_amount\n",
    "            self.debit.run() #calling the BankAccount.run() with the account name which is mentiond in the object of BankAccount\n",
    "        else:\n",
    "            self.debit.run()\n",
    "\n",
    "'''Setting values in balance and account ID'''\n",
    "print(Bank)\n",
    "acc1=BankAccount(1429, 1000000)\n",
    "acc2=BankAccount(1430, 550000)\n",
    "acc1.start()\n",
    "acc2.start()\n",
    "\n",
    "acc1.join()\n",
    "acc2.join()\n",
    "\n",
    "sleep(.5)\n",
    "print(\"--------------\")\n",
    "\n",
    "add_amount1 = Deposit(acc1, 50000)\n",
    "add_amount2 = Deposit(acc2, 50000)\n",
    "\n",
    "print(\"Ammount successfully credited to your account\")\n",
    "\n",
    "add_amount1.start()\n",
    "add_amount2.start()\n",
    "\n",
    "sleep(.5)\n",
    "print(\"--------------\")\n",
    "\n",
    "wdr_amount1 = Withdrawl(acc1, 100000)\n",
    "wdr_amount2 = Withdrawl(acc2, 2500)\n",
    "\n",
    "print(\"Ammount successfully debited from your account\")\n",
    "wdr_amount1.start()\n",
    "wdr_amount2.start()"
   ]
  },
  {
   "cell_type": "code",
   "execution_count": null,
   "id": "c98f2d0f-bbf8-42db-88cd-6fbf96c42e89",
   "metadata": {},
   "outputs": [],
   "source": []
  }
 ],
 "metadata": {
  "kernelspec": {
   "display_name": "Python 3 (ipykernel)",
   "language": "python",
   "name": "python3"
  },
  "language_info": {
   "codemirror_mode": {
    "name": "ipython",
    "version": 3
   },
   "file_extension": ".py",
   "mimetype": "text/x-python",
   "name": "python",
   "nbconvert_exporter": "python",
   "pygments_lexer": "ipython3",
   "version": "3.13.3"
  }
 },
 "nbformat": 4,
 "nbformat_minor": 5
}
