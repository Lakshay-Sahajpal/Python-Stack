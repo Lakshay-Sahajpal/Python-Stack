{
 "cells": [
  {
   "cell_type": "code",
   "execution_count": 1,
   "id": "8638ffe8-515c-4a60-ae0f-eecaaaf2da52",
   "metadata": {},
   "outputs": [
    {
     "name": "stdout",
     "output_type": "stream",
     "text": [
      "Writing fungreet.py\n"
     ]
    }
   ],
   "source": [
    "%%writefile fungreet.py\n",
    "\n",
    "def greet(name, place):\n",
    "    print(f\"Hi {name} good to know you live in {place}\")"
   ]
  },
  {
   "cell_type": "code",
   "execution_count": null,
   "id": "b45d2561-5e57-4d63-b0b9-c91d666cce60",
   "metadata": {},
   "outputs": [],
   "source": []
  }
 ],
 "metadata": {
  "kernelspec": {
   "display_name": "Python 3 (ipykernel)",
   "language": "python",
   "name": "python3"
  },
  "language_info": {
   "codemirror_mode": {
    "name": "ipython",
    "version": 3
   },
   "file_extension": ".py",
   "mimetype": "text/x-python",
   "name": "python",
   "nbconvert_exporter": "python",
   "pygments_lexer": "ipython3",
   "version": "3.13.3"
  }
 },
 "nbformat": 4,
 "nbformat_minor": 5
}
