{
 "cells": [
  {
   "cell_type": "raw",
   "id": "f3994eee-05dc-4c5b-9943-b2a22e4bc1cf",
   "metadata": {},
   "source": [
    "Inheritance & Method Overriding"
   ]
  },
  {
   "cell_type": "code",
   "execution_count": 55,
   "id": "73c8974e-a898-42ff-b703-0eada7947f2a",
   "metadata": {
    "panel-layout": {
     "height": 0,
     "visible": true,
     "width": 100
    }
   },
   "outputs": [
    {
     "name": "stdout",
     "output_type": "stream",
     "text": [
      "Name: Sonali, Salary: 1800000, Department: Success Guide\n",
      "Sonali is conducting meeting\n",
      "\n",
      "Name: Lakshay, Salary: 2500000, Language: Python\n",
      "Lakshay is writing code\n"
     ]
    }
   ],
   "source": [
    "\n",
    "\n",
    "class Employee:\n",
    "    \n",
    "    def __init__(self, name, salary):\n",
    "        self.name=name\n",
    "        self.salary=salary\n",
    "\n",
    "    def show_details(self):\n",
    "        print(self.name, self.salary)\n",
    "        \n",
    "\n",
    "class Manager(Employee):\n",
    "\n",
    "    def __init__(self, name, salary, dep):\n",
    "        super().__init__(name, salary)\n",
    "        self.dep=dep\n",
    "\n",
    "    def show_details(self):\n",
    "        print(f\"Name: {self.name}, Salary: {self.salary}, Department: {self.dep}\") # Method Overriding\n",
    "\n",
    "    def conduct_meeting(self):\n",
    "        print(f\"{self.name} is conducting meeting\")\n",
    "\n",
    "class Developer(Employee):\n",
    "\n",
    "    def __init__(self, name, salary, lang):\n",
    "        super().__init__(name, salary)\n",
    "        self.lang=lang\n",
    "   \n",
    "    def show_details(self):\n",
    "        print(f\"Name: {self.name}, Salary: {self.salary}, Language: {self.lang}\") # Method Overriding\n",
    "\n",
    "    def write_code(self):\n",
    "        print(f\"{self.name} is writing code\")\n",
    "\n",
    "e1 = Manager(\"Sonali\", 1800000, \"Success Guide\")\n",
    "e1.show_details() # Method Overriding\n",
    "e1.conduct_meeting()\n",
    "print()\n",
    "e2 = Developer(\"Lakshay\", 2500000, \"Python\")\n",
    "e2.show_details() # Method Overriding\n",
    "e2.write_code()\n",
    "\n"
   ]
  },
  {
   "cell_type": "code",
   "execution_count": null,
   "id": "467abdd0-c669-46b7-b7d3-c31810ebab33",
   "metadata": {},
   "outputs": [],
   "source": [
    "Inner Class"
   ]
  },
  {
   "cell_type": "code",
   "execution_count": 35,
   "id": "58075bf5-0b3e-48b3-a4a2-cd65bb6ab41a",
   "metadata": {},
   "outputs": [
    {
     "name": "stdout",
     "output_type": "stream",
     "text": [
      "Sonali 1800000\n",
      "Department is Success Guide\n",
      "Sonali is conducting meeting\n"
     ]
    },
    {
     "data": {
      "text/plain": [
       "'print()\\n\\ne2 = Developer(\"Lakshay\", 2500000, \"Python\")\\ne2.show_details()\\ne2.write_code()'"
      ]
     },
     "execution_count": 35,
     "metadata": {},
     "output_type": "execute_result"
    }
   ],
   "source": [
    "\n",
    "\n",
    "class Employee:\n",
    "    \n",
    "    def __init__(self, name, salary):\n",
    "        self.name=name\n",
    "        self.salary=salary\n",
    "        self.man=self.Manager(name)\n",
    "\n",
    "    def show_details(self):\n",
    "        print(self.name, self.salary)\n",
    "        self.man.show_details()\n",
    "        self.man.conduct_meeting()\n",
    "\n",
    "    class Manager():\n",
    "    \n",
    "        def __init__(self, name):\n",
    "            self.dep=\"Success Guide\"\n",
    "            self.name=name\n",
    "    \n",
    "        def show_details(self):\n",
    "            print(f\"Department is {self.dep}\")\n",
    "    \n",
    "        def conduct_meeting(self):\n",
    "            print(f\"{self.name} is conducting meeting\")\n",
    "\n",
    "'''class Developer(Employee):\n",
    "\n",
    "    def __init__(self, name, salary, lang):\n",
    "        super().__init__(name, salary)\n",
    "        self.lang=lang\n",
    "   \n",
    "    def show_details(self):\n",
    "        print(f\"Name: {self.name}, Salary: {self.salary}, Language: {self.lang}\")\n",
    "\n",
    "    def write_code(self):\n",
    "        print(f\"{self.name} is writing code\")'''\n",
    "\n",
    "e1 = Employee(\"Sonali\", 1800000)\n",
    "e1.show_details()\n",
    "\n",
    "'''print()\n",
    "\n",
    "e2 = Developer(\"Lakshay\", 2500000, \"Python\")\n",
    "e2.show_details()\n",
    "e2.write_code()'''\n",
    "\n"
   ]
  },
  {
   "cell_type": "raw",
   "id": "78c994d1-ea68-4913-bd7c-35005a1f0d2b",
   "metadata": {},
   "source": [
    "Duck Typing"
   ]
  },
  {
   "cell_type": "code",
   "execution_count": 59,
   "id": "3c747291-b2c9-4db1-96a6-dac63dedbe92",
   "metadata": {},
   "outputs": [
    {
     "name": "stdout",
     "output_type": "stream",
     "text": [
      "feature 1\n",
      "feature 2\n",
      "feature 3\n",
      "feature 4\n"
     ]
    }
   ],
   "source": [
    "class Alpha():\n",
    "    def process(self):\n",
    "        print(\"feature 1\")\n",
    "        print(\"feature 2\")\n",
    "\n",
    "class Beta():\n",
    "    def process(self):\n",
    "        print(\"feature 3\")\n",
    "        print(\"feature 4\")\n",
    "\n",
    "class Duck():\n",
    "    def features(self, ide):\n",
    "        ide.process()\n",
    "\n",
    "x=[Alpha(), Beta()]\n",
    "for i in x:\n",
    "    d1=Duck()\n",
    "    d1.features(i)\n"
   ]
  },
  {
   "cell_type": "raw",
   "id": "af6fc960-1879-42ff-b393-54f5a7818ac6",
   "metadata": {},
   "source": [
    "Operator Overloading"
   ]
  },
  {
   "cell_type": "code",
   "execution_count": 11,
   "id": "9fe317c5-6549-46bf-86bf-5f1da3428aa8",
   "metadata": {},
   "outputs": [
    {
     "name": "stdout",
     "output_type": "stream",
     "text": [
      "210 231\n"
     ]
    }
   ],
   "source": [
    "class Student:\n",
    "    def __init__(self, m1, m2):\n",
    "        self.m1=m1\n",
    "        self.m2=m2\n",
    "\n",
    "    def __add__(self, other):\n",
    "        m1=self.m1 + other.m1\n",
    "        m2=self.m2 + other.m2\n",
    "        s3=Student(m1, m2)\n",
    "        return s3\n",
    "\n",
    "s1=Student(56,98)\n",
    "s2=Student(78,35)\n",
    "s3= Student(76,98)\n",
    "s4= s1+s2+s3\n",
    "print(s4.m1, s4.m2)\n"
   ]
  },
  {
   "cell_type": "raw",
   "id": "b79a98b5-2898-494a-8bd5-46b1a1e20fa5",
   "metadata": {},
   "source": [
    "Method Overloading"
   ]
  },
  {
   "cell_type": "code",
   "execution_count": 62,
   "id": "3a26be4e-469a-44d5-8031-272212b59a4d",
   "metadata": {},
   "outputs": [
    {
     "name": "stdout",
     "output_type": "stream",
     "text": [
      "4\n",
      "30\n",
      "22\n"
     ]
    }
   ],
   "source": [
    "class Student:\n",
    "    def avg(self, a=0, b=0, c=0):\n",
    "        s=0\n",
    "        if a!=None and b!=None and c!=None:\n",
    "            s=a+b+c\n",
    "        elif a!=None and b!=None:\n",
    "            s=a+b\n",
    "        else:\n",
    "            s=a\n",
    "        return s\n",
    "\"\"\"        \n",
    "    def avg(self, a=0, b=0, c=0):\n",
    "        s=a+b+c\n",
    "        return s\n",
    "\"\"\"\n",
    "\n",
    "s1=Student()\n",
    "print(s1.avg(4))\n",
    "print(s1.avg(6,16,8))\n",
    "print(s1.avg(6,16))\n"
   ]
  },
  {
   "cell_type": "code",
   "execution_count": 85,
   "id": "7b915ba5-1d88-4c9f-8f25-e032bbdf3994",
   "metadata": {},
   "outputs": [
    {
     "name": "stdout",
     "output_type": "stream",
     "text": [
      "4\n",
      "4\n",
      "4\n",
      "4\n",
      "5\n",
      "7\n"
     ]
    }
   ],
   "source": [
    "l=[4, 5, 7, 8]\n",
    "print(iter(l).__next__())\n",
    "print(iter(l).__next__())\n",
    "print(iter(l).__next__())\n",
    "\n",
    "it=iter(l)\n",
    "\n",
    "print(it.__next__())\n",
    "print(it.__next__())\n",
    "print(next(it))\n"
   ]
  },
  {
   "cell_type": "code",
   "execution_count": null,
   "id": "f65df586-6f71-42db-b079-a4375a285830",
   "metadata": {},
   "outputs": [],
   "source": [
    "Iterator"
   ]
  },
  {
   "cell_type": "code",
   "execution_count": 13,
   "id": "ef80bcdf-3bbf-4ee1-970b-08a23809929c",
   "metadata": {},
   "outputs": [
    {
     "name": "stdout",
     "output_type": "stream",
     "text": [
      "2\n",
      "4\n",
      "6\n",
      "8\n",
      "10\n",
      "12\n",
      "14\n"
     ]
    }
   ],
   "source": [
    "class Evenrange:\n",
    "    \n",
    "    def __init__(self, start, end):\n",
    "        self.start=start\n",
    "        self.end=end\n",
    "\n",
    "    def __iter__(self):\n",
    "        return self\n",
    "\n",
    "    def __next__(self):\n",
    "        while self.start <= self.end:\n",
    "            if self.start % 2 == 0:\n",
    "                val = self.start\n",
    "                self.start += 1\n",
    "                return val\n",
    "            else: self.start += 1\n",
    "        raise StopIteration\n",
    "\n",
    "even=Evenrange(1, 14)\n",
    "for i in even:\n",
    "    print(i)"
   ]
  },
  {
   "cell_type": "code",
   "execution_count": 12,
   "id": "6c73b83c-1aa8-4a0c-b3e3-dd02ab76befc",
   "metadata": {},
   "outputs": [
    {
     "name": "stdout",
     "output_type": "stream",
     "text": [
      "found odd number: 3\n",
      "found odd number: 5\n",
      "found odd number: 7\n",
      "found odd number: 9\n",
      "found odd number: 11\n",
      "found odd number: 13\n"
     ]
    }
   ],
   "source": [
    "class OddRange():\n",
    "    def __init__(self, start, end):\n",
    "        self.start = start\n",
    "        self.end = end\n",
    "\n",
    "    def __iter__(self):\n",
    "        return self\n",
    "\n",
    "    def __next__(self):\n",
    "        while self.start <= self.end:\n",
    "            if self.start % 2 != 0:\n",
    "                val= self.start\n",
    "                print(\"found odd number:\", end=\" \")\n",
    "                self.start += 1\n",
    "                return val\n",
    "            self.start+=1\n",
    "        raise StopIteration\n",
    "            \n",
    "\n",
    "num = OddRange(2, 14)\n",
    "\n",
    "for i in num:\n",
    "    print(i)\n"
   ]
  },
  {
   "cell_type": "raw",
   "id": "8593c311-b07b-473f-bafa-02901f3befed",
   "metadata": {},
   "source": [
    "MultiThreading"
   ]
  },
  {
   "cell_type": "code",
   "execution_count": 1,
   "id": "c5cea39c-8142-4a1a-a1d3-eb049c7f2675",
   "metadata": {},
   "outputs": [
    {
     "name": "stdout",
     "output_type": "stream",
     "text": [
      "Hello\n",
      "Hi\n",
      "Hello\n",
      "Hi\n",
      "Hello\n",
      "Hi\n",
      "Hello\n",
      "Hi\n",
      "Hello\n",
      "Hi\n",
      "Hello\n",
      "Hi\n",
      "Hello\n",
      "Hi\n",
      "Hello\n",
      "Hi\n",
      "Hello\n",
      "Hi\n",
      "Hello\n",
      "Hi\n",
      "Hello\n",
      "Hi\n",
      "Hello\n",
      "Hi\n",
      "Hello\n",
      "Hi\n",
      "Hello\n",
      "Hi\n",
      "Hello\n",
      "Hi\n",
      "Hello\n",
      "Hi\n",
      "Hello\n",
      "Hi\n",
      "Hello\n",
      "Hi\n",
      "Hello\n",
      "Hi\n",
      "Hello\n",
      "Hi\n",
      "Hello\n",
      "Hi\n",
      "Hello\n",
      "Hi\n",
      "Hello\n",
      "Hi\n",
      "Hello\n",
      "Hi\n",
      "Hello\n",
      "Hi\n",
      "Hello\n",
      "Hi\n",
      "Hello\n",
      "Hi\n",
      "Hello\n",
      "Hi\n",
      "Hello\n",
      "Hi\n",
      "Hello\n",
      "Hi\n",
      "Hello\n",
      "Hi\n",
      "Hello\n",
      "Hi\n",
      "Hello\n",
      "Hi\n",
      "Hello\n",
      "Hi\n",
      "Hello\n",
      "Hi\n",
      "Hello\n",
      "Hi\n",
      "Hello\n",
      "Hi\n",
      "Hello\n",
      "Hi\n",
      "Hello\n",
      "Hi\n",
      "Hello\n",
      "Hi\n",
      "Hello\n",
      "Hi\n",
      "Hello\n",
      "Hi\n",
      "Hello\n",
      "Hi\n",
      "Hello\n",
      "Hi\n",
      "Hello\n",
      "Hi\n",
      "Hello\n",
      "Hi\n",
      "Hello\n",
      "Hi\n",
      "Hello\n",
      "Hi\n",
      "Hello\n",
      "Hi\n",
      "Hello\n",
      "Hi\n",
      "Happy Ending\n"
     ]
    }
   ],
   "source": [
    "from threading import *\n",
    "from time import sleep\n",
    "\n",
    "class Hello (Thread):\n",
    "    def run (self):\n",
    "        for i in range(50):\n",
    "            print(\"Hello\")\n",
    "            sleep(1)\n",
    "\n",
    "class Hi (Thread):\n",
    "    def run (self):\n",
    "        for i in range(50):\n",
    "            print(\"Hi\")\n",
    "            sleep(1)\n",
    "            \n",
    "t1 = Hello()\n",
    "t2 = Hi()\n",
    "\n",
    "t1.start()\n",
    "sleep(.2)\n",
    "t2.start()\n",
    "\n",
    "t1.join()\n",
    "t2.join()\n",
    "print(\"Happy Ending\")"
   ]
  },
  {
   "cell_type": "code",
   "execution_count": null,
   "id": "9804bb5a-e129-42e4-b3da-9140ef641727",
   "metadata": {},
   "outputs": [],
   "source": []
  }
 ],
 "metadata": {
  "kernelspec": {
   "display_name": "Python 3 (ipykernel)",
   "language": "python",
   "name": "python3"
  },
  "language_info": {
   "codemirror_mode": {
    "name": "ipython",
    "version": 3
   },
   "file_extension": ".py",
   "mimetype": "text/x-python",
   "name": "python",
   "nbconvert_exporter": "python",
   "pygments_lexer": "ipython3",
   "version": "3.13.3"
  },
  "panel-cell-order": [
   "73c8974e-a898-42ff-b703-0eada7947f2a"
  ]
 },
 "nbformat": 4,
 "nbformat_minor": 5
}
